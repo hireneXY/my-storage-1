{
 "cells": [
  {
   "cell_type": "code",
   "execution_count": 5,
   "metadata": {},
   "outputs": [
    {
     "name": "stdout",
     "output_type": "stream",
     "text": [
      "数据科学与工程导论\n"
     ]
    }
   ],
   "source": [
    "print (\"数据科学与工程导论\")"
   ]
  },
  {
   "cell_type": "code",
   "execution_count": 13,
   "metadata": {},
   "outputs": [
    {
     "name": "stdout",
     "output_type": "stream",
     "text": [
      "★★★★★★★★★★★★\n",
      "★ 数据科学与工程导论 ★\n",
      "★★★★★★★★★★★★\n"
     ]
    }
   ],
   "source": [
    "print(chr(0x2605) * 12)\n",
    "print(f\"{chr(0x2605)} 数据科学与工程导论 {chr(0x2605)}\")\n",
    "print(chr(0x2605) * 12)"
   ]
  },
  {
   "cell_type": "code",
   "execution_count": 2,
   "metadata": {},
   "outputs": [
    {
     "data": {
      "application/vnd.jupyter.widget-view+json": {
       "model_id": "239f7c9ef9dd4968816ef3547031f4b0",
       "version_major": 2,
       "version_minor": 0
      },
      "text/plain": [
       "interactive(children=(IntText(value=0, description='x:'), IntText(value=0, description='y:'), IntText(value=0,…"
      ]
     },
     "metadata": {},
     "output_type": "display_data"
    },
    {
     "data": {
      "text/plain": [
       "<function __main__.sort_numbers(x, y, z)>"
      ]
     },
     "execution_count": 2,
     "metadata": {},
     "output_type": "execute_result"
    }
   ],
   "source": [
    "from ipywidgets import interact, IntText, HBox, VBox\n",
    "\n",
    "def sort_numbers(x, y, z):\n",
    "    numbers = [x, y, z]\n",
    "    numbers.sort()\n",
    "    print(\"从小到大排序的结果为:\", numbers)\n",
    "\n",
    "# 创建输入框\n",
    "x_input = IntText(value=0, description='x:')\n",
    "y_input = IntText(value=0, description='y:')\n",
    "z_input = IntText(value=0, description='z:')\n",
    "\n",
    "# 创建交互式控件\n",
    "interact(sort_numbers, x=x_input, y=y_input, z=z_input)\n"
   ]
  },
  {
   "cell_type": "code",
   "execution_count": 4,
   "metadata": {},
   "outputs": [
    {
     "data": {
      "application/vnd.jupyter.widget-view+json": {
       "model_id": "294f82aee6eb47c4af88aada07f2ca50",
       "version_major": 2,
       "version_minor": 0
      },
      "text/plain": [
       "interactive(children=(IntText(value=0, description='w:'), IntText(value=0, description='x:'), IntText(value=0,…"
      ]
     },
     "metadata": {},
     "output_type": "display_data"
    },
    {
     "data": {
      "text/plain": [
       "<function __main__.sort_numbers(w, x, y, z)>"
      ]
     },
     "execution_count": 4,
     "metadata": {},
     "output_type": "execute_result"
    }
   ],
   "source": [
    "from ipywidgets import interact, IntText, HBox, VBox\n",
    "\n",
    "def sort_numbers(w, x, y, z):\n",
    "    numbers = [w, x, y, z]\n",
    "    numbers.sort(reverse=True)\n",
    "    print(\"从大到小排序的结果为:\", numbers)\n",
    "\n",
    "# 创建输入框\n",
    "w_input = IntText(value=0, description='w:')\n",
    "x_input = IntText(value=0, description='x:')\n",
    "y_input = IntText(value=0, description='y:')\n",
    "z_input = IntText(value=0, description='z:')\n",
    "\n",
    "# 创建交互式控件\n",
    "interact(sort_numbers, w=w_input, x=x_input, y=y_input, z=z_input)\n"
   ]
  },
  {
   "cell_type": "code",
   "execution_count": 1,
   "metadata": {},
   "outputs": [
    {
     "name": "stdout",
     "output_type": "stream",
     "text": [
      "打印1 到 100 之间的奇数:\n",
      "1\n",
      "3\n",
      "5\n",
      "7\n",
      "9\n",
      "11\n",
      "13\n",
      "15\n",
      "17\n",
      "19\n",
      "21\n",
      "23\n",
      "25\n",
      "27\n",
      "29\n",
      "31\n",
      "33\n",
      "35\n",
      "37\n",
      "39\n",
      "41\n",
      "43\n",
      "45\n",
      "47\n",
      "49\n",
      "51\n",
      "53\n",
      "55\n",
      "57\n",
      "59\n",
      "61\n",
      "63\n",
      "65\n",
      "67\n",
      "69\n",
      "71\n",
      "73\n",
      "75\n",
      "77\n",
      "79\n",
      "81\n",
      "83\n",
      "85\n",
      "87\n",
      "89\n",
      "91\n",
      "93\n",
      "95\n",
      "97\n",
      "99\n"
     ]
    }
   ],
   "source": [
    "print (\"打印1 到 100 之间的奇数:\")\n",
    "# 使用 for 循环遍历 1 到 100 的数字\n",
    "for i in range(1, 101):\n",
    "    # 判断是否为奇数\n",
    "    if i % 2 != 0:\n",
    "        print(i)"
   ]
  },
  {
   "cell_type": "code",
   "execution_count": 2,
   "metadata": {},
   "outputs": [
    {
     "name": "stdout",
     "output_type": "stream",
     "text": [
      "打印1-100的整数和:\n",
      "5050\n"
     ]
    }
   ],
   "source": [
    "print (\"打印1-100的整数和:\")\n",
    "sum = 0\n",
    "# 使用 for 循环遍历 1 到 100 的数字\n",
    "for i in range(1, 101):\n",
    "    sum += i\n",
    "print (sum)"
   ]
  },
  {
   "cell_type": "code",
   "execution_count": 7,
   "metadata": {},
   "outputs": [
    {
     "name": "stdout",
     "output_type": "stream",
     "text": [
      "用for循环:从大到小排序的结果为  [53, 35, 24, 15, 7]\n",
      "用while循环:从大到小排序的结果为  [362, 224, 135, 134, 123]\n"
     ]
    }
   ],
   "source": [
    "numbers = [7, 24, 15, 53, 35]\n",
    "numberss = [134, 224, 123, 362, 135]\n",
    "\n",
    "# 用 for 循环实现对一个给定序列的倒排序输出\n",
    "for i in range(len(numbers)):\n",
    "    max_index = i\n",
    "    for j in range(i + 1, len(numbers)):\n",
    "        if numbers[j] > numbers[max_index]:\n",
    "            max_index = j\n",
    "    numbers[i], numbers[max_index] = numbers[max_index], numbers[i]\n",
    "print(\"用for循环:从大到小排序的结果为 \", numbers)\n",
    "\n",
    "#  用 while 循环实现\n",
    "k = 0\n",
    "while k < len(numberss):\n",
    "    maxx_index = k\n",
    "    p = k + 1\n",
    "    while p < len(numberss):\n",
    "        if numberss[p] > numberss[maxx_index]:\n",
    "            maxx_index = p\n",
    "        p += 1\n",
    "    numberss[k], numberss[maxx_index] = numberss[maxx_index], numberss[k]\n",
    "    k += 1\n",
    "print(\"用while循环:从大到小排序的结果为 \", numberss)"
   ]
  },
  {
   "cell_type": "code",
   "execution_count": 9,
   "metadata": {},
   "outputs": [
    {
     "name": "stdout",
     "output_type": "stream",
     "text": [
      "字符串不包含连续出现相同字符\n"
     ]
    }
   ],
   "source": [
    "# 判断一个输入的字符串 S 是否包含由两个或两个以上连续出现的相同字符组成的字符串\n",
    "def has_consistent_chars(s):\n",
    "    if len(s) < 2:\n",
    "        return False\n",
    "    \n",
    "    count = 1\n",
    "    for i in range(1, len(s)):\n",
    "        if s[i] == s[i - 1]:\n",
    "            count += 1\n",
    "            if count >= 2:\n",
    "                return True\n",
    "        else:\n",
    "            count = 1\n",
    "    \n",
    "    return False\n",
    "\n",
    "str = \"dhxf\"\n",
    "if has_consistent_chars(str):\n",
    "    print(\"字符串包含连续出现相同字符\")\n",
    "else:\n",
    "    print(\"字符串不包含连续出现相同字符\")"
   ]
  },
  {
   "cell_type": "code",
   "execution_count": 10,
   "metadata": {},
   "outputs": [
    {
     "name": "stdout",
     "output_type": "stream",
     "text": [
      "去掉空格后的字符串为: eastchinanormaluniversity\n"
     ]
    }
   ],
   "source": [
    "string = \"east china normal university\"\n",
    "\n",
    "# 去掉所有空格\n",
    "new_string = string.replace(\" \", \"\")\n",
    "\n",
    "print(\"去掉空格后的字符串为:\", new_string)"
   ]
  },
  {
   "cell_type": "code",
   "execution_count": 12,
   "metadata": {},
   "outputs": [
    {
     "name": "stdout",
     "output_type": "stream",
     "text": [
      "127 的三次方根约为: 5.026525695313479\n"
     ]
    }
   ],
   "source": [
    "def newton_cubic_root(a, tolerance=1e-10, max_iterations=100):#(数，收敛容差，最大迭代次数)\n",
    "    # 初始猜测值\n",
    "    x = a / 2.0\n",
    "    \n",
    "    for _ in range(max_iterations):\n",
    "        # 计算新的迭代值\n",
    "        xx = (2 * x + a / (x ** 2)) / 3\n",
    "        \n",
    "        # 检查收敛条件\n",
    "        if abs(x - xx) < tolerance:\n",
    "            return xx\n",
    "        \n",
    "        x = xx\n",
    "    \n",
    "    return x\n",
    "\n",
    "# 输入一个数\n",
    "a = 127\n",
    "\n",
    "# 求三次方根\n",
    "cubic_root = newton_cubic_root(a)\n",
    "\n",
    "# 输出结果\n",
    "print(f\"{a} 的三次方根约为: {cubic_root}\")"
   ]
  },
  {
   "cell_type": "code",
   "execution_count": 15,
   "metadata": {},
   "outputs": [
    {
     "name": "stdout",
     "output_type": "stream",
     "text": [
      "5 的阶乘为: 120\n"
     ]
    }
   ],
   "source": [
    "# 写一个 Python 程序，给定一个常数 n（n>0），求 n 的阶乘\n",
    "num = 5\n",
    "\n",
    "def factorial(n):\n",
    "    if n < 0:\n",
    "        return None  \n",
    "    if n == 0 or n == 1:\n",
    "        return 1\n",
    "    return n * factorial(n - 1)\n",
    "\n",
    "# 计算阶乘\n",
    "factorial_num = factorial(num)\n",
    "\n",
    "# 输出结果\n",
    "print(f\"{num} 的阶乘为: {factorial_num}\")"
   ]
  }
 ],
 "metadata": {
  "kernelspec": {
   "display_name": "base",
   "language": "python",
   "name": "python3"
  },
  "language_info": {
   "codemirror_mode": {
    "name": "ipython",
    "version": 3
   },
   "file_extension": ".py",
   "mimetype": "text/x-python",
   "name": "python",
   "nbconvert_exporter": "python",
   "pygments_lexer": "ipython3",
   "version": "3.11.5"
  }
 },
 "nbformat": 4,
 "nbformat_minor": 2
}
